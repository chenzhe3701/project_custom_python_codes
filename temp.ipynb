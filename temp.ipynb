{
 "cells": [
  {
   "cell_type": "code",
   "execution_count": 74,
   "metadata": {},
   "outputs": [],
   "source": [
    "import numpy as np\n",
    "import pandas as pd\n",
    "import matplotlib.pyplot as plt\n",
    "\n",
    "'''\n",
    "type-1 grain file header:\n",
    "# Header: Project1::Mg4Al_U2 iE=0 cleaned-NOC cleaned-Dil::All data, tolerance=5deg::Grain Size   3/1/2021\n",
    "# \n",
    "# Partition Formula: \n",
    "# Grain Tolerance Angle: 5.00\n",
    "# Minimum Grain Size: 2\n",
    "# Minimum Anti-Grain Size: 2\n",
    "# Minimum Confidence Index: 0.00\n",
    "# Multiple Rows Requirement: Off\n",
    "# Anti-Grain Multiple Rows Requirement: Off\n",
    "# Column 1-3: phi1, PHI, phi2 (orientation of point in radians)\n",
    "# Column 4-5: x, y (coordinates of point in microns)\n",
    "# Column 6:   IQ (image quality)\n",
    "# Column 7:   CI (confidence index)\n",
    "# Column 8:   Fit (degrees)\n",
    "# Column 9:   Grain ID (integer)\n",
    "# Column 10:  edge (1 for grains at edges of scan and 0 for interior grains)\n",
    "# Column 11:  phase name\n",
    "\n",
    "type-2 grain file header:\n",
    "# Header: Project1::Mg4Al_U2 iE=0 cleaned-NOC cleaned-Dil::All data, tolerance=5deg::Grain Size   3/1/2021\n",
    "# \n",
    "# Partition Formula: \n",
    "# Grain Tolerance Angle: 5.00\n",
    "# Minimum Grain Size: 2\n",
    "# Minimum Anti-Grain Size: 2\n",
    "# Minimum Confidence Index: 0.00\n",
    "# Multiple Rows Requirement: Off\n",
    "# Anti-Grain Multiple Rows Requirement: Off\n",
    "# Column 1: Integer identifying grain\n",
    "# Column 2-4: Average orientation (phi1, PHI, phi2) in degrees\n",
    "# Column 5-7: Average orientation (phi1, PHI, phi2) in radians\n",
    "# Column 8-9: Average Position (x, y) in microns\n",
    "# Column 10: Average Image Quality (IQ)\n",
    "# Column 11: Average Confidence Index (CI)\n",
    "# Column 12: Average Fit (degrees)\n",
    "# Column 13: An integer identifying the phase\n",
    "#           0 -  Magnesium\n",
    "# Column 14: Edge grain (1) or interior grain (0)\n",
    "# Column 15: Number of measurement points in the grain\n",
    "# Column 16: Area of grain in square microns\n",
    "# Column 17: Diameter of grain in microns\n",
    "# Column 18: ASTM grain size\n",
    "# Column 19: Aspect ratio of ellipse fit to grain\n",
    "# Column 20: Length of major axis of ellipse fit to grain in microns\n",
    "# Column 21: Length of minor axis of ellipse fit to grain in microns\n",
    "# Column 22: Orientation (relative to the horizontal) of major axis of ellipse fit to grain in degrees\n",
    "# Column 23: Grain ellipticity\n",
    "# Column 24: Grain circularity\n",
    "# Column 25: Maximmum Feret diameter# Column 26: Minimum Feret diameter\n",
    "# Column 27: Average orientation spread in grain (average misorientation of all point pairs)\n",
    "# Column 28: Average misorientation in grain (average misorientation of neighboring point pairs)\n",
    "# Column 29-...: Number of grains neighboring current grain and their grain IDs (Count id1 id2 id3 ...)\n",
    "# Column 30-...: Number of grains neighboring current grain and their grain IDs (Count id1 (w1) id2 (w2) id3 (w3) ...)\n",
    "'''\n",
    "\n",
    "f1 = 'data/Mg4Al_U2 grain_file_type_1 iE=0.txt'\n",
    "f2 = 'data/Mg4Al_U2 grain_file_type_2 iE=0.txt'\n",
    "\n",
    "# open file and read as text\n",
    "with open(f1) as f:\n",
    "    t1 = f.readlines()\n",
    "\n",
    "# determine number of header rows\n",
    "number_of_header_lines = 0\n",
    "while t1[number_of_header_lines ][0]=='#':\n",
    "    number_of_header_lines  += 1\n",
    "\n",
    "# skip headers, read data, assign column names\n",
    "column_names = ['phi1','phi','phi2','x','y','IQ','CI','Fit','ID','Edge','phase']\n",
    "df = pd.read_csv(f1, delimiter='\\s+', header=None, names=column_names, skiprows=number_of_header_lines)\n",
    "\n",
    "# determine 2D dimension of data\n",
    "nx = df['x'].nunique()\n",
    "ny = df['y'].nunique()\n",
    "\n",
    "# extract columns and reshape into matrices\n",
    "phi1 = np.array(df['phi1']).reshape((nx,ny))\n",
    "phi = np.array(df['phi']).reshape((nx,ny))\n",
    "phi2 = np.array(df['phi2']).reshape((nx,ny))\n",
    "x = np.array(df['x']).reshape((nx,ny))\n",
    "y = np.array(df['y']).reshape((nx,ny))\n",
    "IQ = np.array(df['IQ']).reshape((nx,ny))\n",
    "CI = np.array(df['CI']).reshape((nx,ny))\n",
    "Fit = np.array(df['Fit']).reshape((nx,ny))\n",
    "ID = np.array(df['ID']).reshape((nx,ny))\n",
    "Edge = np.array(df['Edge']).reshape((nx,ny))\n",
    "phase = np.array(df['phase']).reshape((nx,ny))\n",
    "\n",
    "# with open(f2) as f:\n",
    "#     t2 = f.readlines()"
   ]
  },
  {
   "cell_type": "code",
   "execution_count": 82,
   "metadata": {},
   "outputs": [
    {
     "data": {
      "image/png": "[encoded data removed]",
      "text/plain": [
       "<Figure size 432x432 with 1 Axes>"
      ]
     },
     "metadata": {
      "needs_background": "light"
     },
     "output_type": "display_data"
    }
   ],
   "source": [
    "# plot the map\n",
    "fig = plt.figure(figsize=(6,6))\n",
    "axes = fig.add_axes([0,0,1,1])\n",
    "axes.pcolor(x, y, ID)\n",
    "axes.axis('equal')\n",
    "plt.gca().invert_yaxis()"
   ]
  }
 ],
 "metadata": {
  "interpreter": {
   "hash": "354be341f62b538ed70a3e59146faa72a285d317c517ec10882a5ab14d70fa45"
  },
  "kernelspec": {
   "display_name": "Python 3.9.5 ('base')",
   "language": "python",
   "name": "python3"
  },
  "language_info": {
   "codemirror_mode": {
    "name": "ipython",
    "version": 3
   },
   "file_extension": ".py",
   "mimetype": "text/x-python",
   "name": "python",
   "nbconvert_exporter": "python",
   "pygments_lexer": "ipython3",
   "version": "3.9.5"
  },
  "orig_nbformat": 4
 },
 "nbformat": 4,
 "nbformat_minor": 2
}
